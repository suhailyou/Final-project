{
 "cells": [
  {
   "cell_type": "code",
   "execution_count": 2,
   "id": "342c4979",
   "metadata": {},
   "outputs": [
    {
     "ename": "ModuleNotFoundError",
     "evalue": "No module named 'yfinance'",
     "output_type": "error",
     "traceback": [
      "\u001b[1;31m---------------------------------------------------------------------------\u001b[0m",
      "\u001b[1;31mModuleNotFoundError\u001b[0m                       Traceback (most recent call last)",
      "Cell \u001b[1;32mIn[2], line 1\u001b[0m\n\u001b[1;32m----> 1\u001b[0m \u001b[38;5;28;01mimport\u001b[39;00m \u001b[38;5;21;01myfinance\u001b[39;00m \u001b[38;5;28;01mas\u001b[39;00m \u001b[38;5;21;01myf\u001b[39;00m\n\u001b[0;32m      3\u001b[0m \u001b[38;5;66;03m# Get historical data for a specific stock (in this case, Apple)\u001b[39;00m\n\u001b[0;32m      4\u001b[0m stock \u001b[38;5;241m=\u001b[39m yf\u001b[38;5;241m.\u001b[39mTicker(\u001b[38;5;124m\"\u001b[39m\u001b[38;5;124mMSFT\u001b[39m\u001b[38;5;124m\"\u001b[39m)\n",
      "\u001b[1;31mModuleNotFoundError\u001b[0m: No module named 'yfinance'"
     ]
    }
   ],
   "source": [
    "import yfinance as yf\n",
    "\n",
    "# Get historical data for a specific stock (in this case, Apple)\n",
    "stock = yf.Ticker(\"MSFT\")\n",
    "\n",
    "# Get the historical data for the past year (from 2022-05-01 to 2021-05-01)\n",
    "start_date = \"2007-05-01\"\n",
    "end_date = \"2023-04-30\"\n",
    "df = stock.history(start=start_date, end=end_date)\n",
    "df.index = df.index.strftime('%Y-%m-%d')\n",
    "df = df.reset_index().rename(columns={\"Date\": \"Date\"})\n",
    "# Print the data\n",
    "print(df.head())\n",
    "\n",
    "df.to_csv('MSFT.csv', index=False)"
   ]
  },
  {
   "cell_type": "code",
   "execution_count": null,
   "id": "a1a5882a",
   "metadata": {},
   "outputs": [],
   "source": []
  }
 ],
 "metadata": {
  "kernelspec": {
   "display_name": "Python 3 (ipykernel)",
   "language": "python",
   "name": "python3"
  },
  "language_info": {
   "codemirror_mode": {
    "name": "ipython",
    "version": 3
   },
   "file_extension": ".py",
   "mimetype": "text/x-python",
   "name": "python",
   "nbconvert_exporter": "python",
   "pygments_lexer": "ipython3",
   "version": "3.10.9"
  }
 },
 "nbformat": 4,
 "nbformat_minor": 5
}
